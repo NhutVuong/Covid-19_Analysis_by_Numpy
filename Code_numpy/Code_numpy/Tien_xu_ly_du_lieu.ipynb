{
 "cells": [
  {
   "cell_type": "code",
   "execution_count": 66,
   "id": "6c315d9b",
   "metadata": {},
   "outputs": [
    {
     "name": "stdout",
     "output_type": "stream",
     "text": [
      "C:\\fpoly\\Numpy\\Assignment\\covid_19_data.csv\n"
     ]
    }
   ],
   "source": [
    "import numpy as np\n",
    "import re\n",
    "file_path = \"C:\\\\fpoly\\\\Numpy\\\\Assignment\\\\\"\n",
    "file_data = \"covid_19_data.csv\"\n",
    "datafile = file_path + file_data\n",
    "print(datafile)"
   ]
  },
  {
   "cell_type": "markdown",
   "id": "cb19b225-f98f-436d-8072-f5bcad156b23",
   "metadata": {},
   "source": [
    "### - Xử lí cột dữ liệu có chứa dấu ','"
   ]
  },
  {
   "cell_type": "code",
   "execution_count": 72,
   "id": "e00de488",
   "metadata": {},
   "outputs": [],
   "source": [
    "with open(datafile, 'r') as file:\n",
    "    file_content = file.read()\n",
    "\n",
    "#thay tat ca dau , trong dau \"-\" bang dau gach ngang\n",
    "file_content = re.sub(r'(\".*?),(.*?\")', r'\\1-\\2', file_content)\n",
    "#goi file va viet lai vao file moi\n",
    "temp_file = 'Covid-19-Processed_Data.csv'\n",
    "with open(file_path+temp_file, 'w') as file:\n",
    "    file.write(file_content)\n"
   ]
  },
  {
   "cell_type": "code",
   "execution_count": 73,
   "id": "db5647da-58cc-4d71-9ea3-91dbc19a7f46",
   "metadata": {},
   "outputs": [
    {
     "name": "stdout",
     "output_type": "stream",
     "text": [
      "C:\\fpoly\\Numpy\\Assignment\\Covid-19-Processed_Data.csv\n"
     ]
    }
   ],
   "source": [
    "file_path = \"C:\\\\fpoly\\\\Numpy\\\\Assignment\\\\\"\n",
    "file_data = \"Covid-19-Processed_Data.csv\"\n",
    "datafile = file_path + file_data\n",
    "print(datafile)"
   ]
  },
  {
   "cell_type": "code",
   "execution_count": 74,
   "id": "e7c8a144",
   "metadata": {},
   "outputs": [],
   "source": [
    "myDelimiter = ','\n",
    "maxline = 10\n",
    "np.set_printoptions(suppress=True,precision=2,linewidth=150)"
   ]
  },
  {
   "cell_type": "markdown",
   "id": "5f6ac820-f33c-4ad4-8b22-670e215b925c",
   "metadata": {},
   "source": [
    "### - Load data lấy header"
   ]
  },
  {
   "cell_type": "code",
   "execution_count": 75,
   "id": "c27d59c7",
   "metadata": {},
   "outputs": [
    {
     "name": "stdout",
     "output_type": "stream",
     "text": [
      "[['SNo' 'ObservationDate' 'Province/State' 'Country/Region' 'Last Update' 'Confirmed' 'Deaths' 'Recovered']\n",
      " ['1' '01/22/2020' 'Anhui' 'Mainland China' '1/22/2020 17:00' '1.0' '0.0' '0.0']\n",
      " ['2' '01/22/2020' 'Beijing' 'Mainland China' '1/22/2020 17:00' '14.0' '0.0' '0.0']\n",
      " ['3' '01/22/2020' 'Chongqing' 'Mainland China' '1/22/2020 17:00' '6.0' '0.0' '0.0']\n",
      " ['4' '01/22/2020' 'Fujian' 'Mainland China' '1/22/2020 17:00' '1.0' '0.0' '0.0']\n",
      " ['5' '01/22/2020' 'Gansu' 'Mainland China' '1/22/2020 17:00' '0.0' '0.0' '0.0']\n",
      " ['6' '01/22/2020' 'Guangdong' 'Mainland China' '1/22/2020 17:00' '26.0' '0.0' '0.0']\n",
      " ['7' '01/22/2020' 'Guangxi' 'Mainland China' '1/22/2020 17:00' '2.0' '0.0' '0.0']\n",
      " ['8' '01/22/2020' 'Guizhou' 'Mainland China' '1/22/2020 17:00' '1.0' '0.0' '0.0']\n",
      " ['9' '01/22/2020' 'Hainan' 'Mainland China' '1/22/2020 17:00' '4.0' '0.0' '0.0']]\n"
     ]
    }
   ],
   "source": [
    "raw_data = np.loadtxt(datafile,\n",
    "                     delimiter = myDelimiter,\n",
    "                     dtype = np.str_,\n",
    "                     max_rows = maxline)\n",
    "print(raw_data)"
   ]
  },
  {
   "cell_type": "code",
   "execution_count": 76,
   "id": "ea6d991b",
   "metadata": {},
   "outputs": [
    {
     "name": "stdout",
     "output_type": "stream",
     "text": [
      "['SNo' 'ObservationDate' 'Province/State' 'Country/Region' 'Last Update' 'Confirmed' 'Deaths' 'Recovered']\n",
      "<class 'numpy.ndarray'>\n",
      "['SNo' 'ObservationDate' 'Province/State' 'Country/Region' 'Last Update' 'Confirmed' 'Deaths' 'Recovered']\n",
      "<class 'numpy.ndarray'>\n",
      "TotalColunm: 8\n"
     ]
    }
   ],
   "source": [
    "header_line = raw_data[0]\n",
    "print(header_line)\n",
    "print(type(header_line))\n",
    "header_column = np.array(header_line)\n",
    "print(header_column)\n",
    "print(type(header_column))\n",
    "Total_Column = len(header_column)\n",
    "print(\"TotalColunm:\",Total_Column)"
   ]
  },
  {
   "cell_type": "markdown",
   "id": "cd3a294a-65bf-4e91-8e03-4db9fd921c89",
   "metadata": {},
   "source": [
    "### - Lấy toàn bộ dữ liệu skip header"
   ]
  },
  {
   "cell_type": "code",
   "execution_count": 78,
   "id": "aa6d8bb8",
   "metadata": {},
   "outputs": [
    {
     "name": "stdout",
     "output_type": "stream",
     "text": [
      "[['1' '01/22/2020' 'Anhui' ... '1.0' '0.0' '0.0']\n",
      " ['2' '01/22/2020' 'Beijing' ... '14.0' '0.0' '0.0']\n",
      " ['3' '01/22/2020' 'Chongqing' ... '6.0' '0.0' '0.0']\n",
      " ...\n",
      " ['306427' '05/29/2021' 'Zhejiang' ... '1364.0' '1.0' '1324.0']\n",
      " ['306428' '05/29/2021' 'Zhytomyr Oblast' ... '87550.0' '1738.0' '83790.0']\n",
      " ['306429' '05/29/2021' 'Zuid-Holland' ... '391559.0' '4252.0' '0.0']]\n",
      "(306429, 8)\n"
     ]
    }
   ],
   "source": [
    "raw_data = np.genfromtxt(datafile, delimiter=myDelimiter,\n",
    "                         skip_header=1, \n",
    "                         dtype=np.str_,  \n",
    "                         autostrip=True)  \n",
    "print(raw_data)\n",
    "print(raw_data.shape)"
   ]
  },
  {
   "cell_type": "markdown",
   "id": "34237182-cb59-4ad0-a4d9-82aec22b3aa8",
   "metadata": {},
   "source": [
    "### - Tách cột Date thành 3 cột 'MM','DD','YYYY'"
   ]
  },
  {
   "cell_type": "code",
   "execution_count": 79,
   "id": "97bf6ab3",
   "metadata": {},
   "outputs": [
    {
     "name": "stdout",
     "output_type": "stream",
     "text": [
      "[['1' '01/22/2020' 'Anhui' ... 'MM' 'DD' 'YYYY']\n",
      " ['2' '01/22/2020' 'Beijing' ... 'MM' 'DD' 'YYYY']\n",
      " ['3' '01/22/2020' 'Chongqing' ... 'MM' 'DD' 'YYYY']\n",
      " ...\n",
      " ['306427' '05/29/2021' 'Zhejiang' ... 'MM' 'DD' 'YYYY']\n",
      " ['306428' '05/29/2021' 'Zhytomyr Oblast' ... 'MM' 'DD' 'YYYY']\n",
      " ['306429' '05/29/2021' 'Zuid-Holland' ... 'MM' 'DD' 'YYYY']]\n",
      "(306429, 11)\n",
      "['SNo' 'ObservationDate' 'Province/State' 'Country/Region' 'Last Update' 'Confirmed' 'Deaths' 'Recovered' 'observation_MM' 'observation_DD'\n",
      " 'observation_YYYY']\n"
     ]
    }
   ],
   "source": [
    "observationData_MMDDYYYY = [['MM'],['DD'],['YYYY']]\n",
    "new_raw_data = np.insert(raw_data,\n",
    "                        raw_data.shape[1],\n",
    "                        observationData_MMDDYYYY,axis=1)\n",
    "print(new_raw_data)\n",
    "\n",
    "print(new_raw_data.shape)\n",
    "new_column_name = ['observation_MM','observation_DD','observation_YYYY']\n",
    "new_header_columns = np.append(header_column,new_column_name)\n",
    "print(new_header_columns)"
   ]
  },
  {
   "cell_type": "code",
   "execution_count": 80,
   "id": "84c54727",
   "metadata": {},
   "outputs": [
    {
     "name": "stdout",
     "output_type": "stream",
     "text": [
      "[['1' '01/22/2020' 'Anhui' ... '01' '22' '2020']\n",
      " ['2' '01/22/2020' 'Beijing' ... '01' '22' '2020']\n",
      " ['3' '01/22/2020' 'Chongqing' ... '01' '22' '2020']\n",
      " ...\n",
      " ['306427' '05/29/2021' 'Zhejiang' ... '05' '29' '2021']\n",
      " ['306428' '05/29/2021' 'Zhytomyr Oblast' ... '05' '29' '2021']\n",
      " ['306429' '05/29/2021' 'Zuid-Holland' ... '05' '29' '2021']]\n",
      "(306429, 11)\n"
     ]
    }
   ],
   "source": [
    "TotalRows = new_raw_data.shape[0]\n",
    "for i in range(0,TotalRows):\n",
    "    MM,DD,YYYY = new_raw_data[i,1].split('/')\n",
    "    new_raw_data[i,8] = MM\n",
    "    new_raw_data[i,9] = DD\n",
    "    new_raw_data[i,10] = YYYY\n",
    "print(new_raw_data[:,:])\n",
    "print(new_raw_data.shape)"
   ]
  },
  {
   "cell_type": "markdown",
   "id": "7bfe9b01",
   "metadata": {},
   "source": [
    "### \n",
    "- Tạo một mảng NumPy chứa số liệu về ca tử vong hàng ngày. "
   ]
  },
  {
   "cell_type": "code",
   "execution_count": 81,
   "id": "0b47c8ed",
   "metadata": {},
   "outputs": [
    {
     "name": "stdout",
     "output_type": "stream",
     "text": [
      "['SNo' 'observation_MM' 'observation_DD' 'observation_YYYY' 'Deaths']\n",
      "[['1' '01' '22' '2020' '0.0']\n",
      " ['2' '01' '22' '2020' '0.0']\n",
      " ['3' '01' '22' '2020' '0.0']\n",
      " ...\n",
      " ['306427' '05' '29' '2021' '1.0']\n",
      " ['306428' '05' '29' '2021' '1738.0']\n",
      " ['306429' '05' '29' '2021' '4252.0']]\n",
      "306429\n"
     ]
    }
   ],
   "source": [
    "y1a_columns = [0,8,9,10,6]\n",
    "y1a_columns_name = new_header_columns[y1a_columns]\n",
    "y1a_raw_data = new_raw_data[:,y1a_columns]\n",
    "print(y1a_columns_name)\n",
    "print(y1a_raw_data)\n",
    "print(len(y1a_raw_data))"
   ]
  },
  {
   "cell_type": "code",
   "execution_count": 82,
   "id": "73ff0beb",
   "metadata": {},
   "outputs": [
    {
     "name": "stdout",
     "output_type": "stream",
     "text": [
      "SNo\tobservation_MM\tobservation_DD\tobservation_YYYY\tDeaths\n"
     ]
    }
   ],
   "source": [
    "y1a_header_string = \"\\t\".join(y1a_columns_name)\n",
    "print(y1a_header_string)"
   ]
  },
  {
   "cell_type": "code",
   "execution_count": 87,
   "id": "60f0e12a",
   "metadata": {},
   "outputs": [],
   "source": [
    "#Lưu file\n",
    "y1a_filename = 'Covid - Deaths by day.csv'\n",
    "y1a_filepath = file_path + y1a_filename\n",
    "y1a_data = y1a_raw_data.astype(np.float32)\n",
    "#print(y1a_data)\n",
    "np.savetxt(y1a_filepath,\n",
    "          y1a_data,\n",
    "          delimiter = myDelimiter, \n",
    "          header = y1a_header_string,\n",
    "          fmt = '%d\\t%d\\t%d\\t%d\\t%.1f')"
   ]
  },
  {
   "cell_type": "markdown",
   "id": "808a5948",
   "metadata": {},
   "source": [
    "###\n",
    "- Tạo một mảng NumPy chứa số liệu về ca phục hồi hàng ngày. "
   ]
  },
  {
   "cell_type": "code",
   "execution_count": 88,
   "id": "3ca1c438",
   "metadata": {},
   "outputs": [
    {
     "name": "stdout",
     "output_type": "stream",
     "text": [
      "['SNo' 'observation_MM' 'observation_DD' 'observation_YYYY' 'Recovered']\n",
      "[['1' '01' '22' '2020' '0.0']\n",
      " ['2' '01' '22' '2020' '0.0']\n",
      " ['3' '01' '22' '2020' '0.0']\n",
      " ...\n",
      " ['306427' '05' '29' '2021' '1324.0']\n",
      " ['306428' '05' '29' '2021' '83790.0']\n",
      " ['306429' '05' '29' '2021' '0.0']]\n",
      "306429\n"
     ]
    }
   ],
   "source": [
    "y1b_columns = [0,8,9,10,7]\n",
    "y1b_columns_name = new_header_columns[y1b_columns]\n",
    "y1b_raw_data = new_raw_data[:,y1b_columns]\n",
    "print(y1b_columns_name)\n",
    "print(y1b_raw_data)\n",
    "print(len(y1b_raw_data))\n",
    "y1b_header_string = \"\\t\".join(y1b_columns_name)\n",
    "#print(y1b_header_string)"
   ]
  },
  {
   "cell_type": "code",
   "execution_count": 89,
   "id": "9a9f6765",
   "metadata": {},
   "outputs": [],
   "source": [
    "#Lưu file\n",
    "y1b_filename = 'Covid - Recovered by day.csv'\n",
    "y1b_filepath = file_path + y1b_filename\n",
    "y1b_data = y1b_raw_data.astype(np.float32)\n",
    "#print(y1b_data)\n",
    "np.savetxt(y1b_filepath,\n",
    "          y1b_data,\n",
    "          header = y1b_header_string,\n",
    "          fmt = '%d\\t%d\\t%d\\t%d\\t%.1f')"
   ]
  },
  {
   "cell_type": "markdown",
   "id": "73318a11",
   "metadata": {},
   "source": [
    "###\n",
    "- Tạo một mảng NumPy chứa số liệu về ca nhiễm hàng ngày. "
   ]
  },
  {
   "cell_type": "code",
   "execution_count": 91,
   "id": "1a7c5caa",
   "metadata": {},
   "outputs": [
    {
     "name": "stdout",
     "output_type": "stream",
     "text": [
      "['SNo' 'observation_MM' 'observation_DD' 'observation_YYYY' 'Confirmed']\n",
      "[['1' '01' '22' '2020' '1.0']\n",
      " ['2' '01' '22' '2020' '14.0']\n",
      " ['3' '01' '22' '2020' '6.0']\n",
      " ...\n",
      " ['306427' '05' '29' '2021' '1364.0']\n",
      " ['306428' '05' '29' '2021' '87550.0']\n",
      " ['306429' '05' '29' '2021' '391559.0']]\n",
      "306429\n"
     ]
    }
   ],
   "source": [
    "y1c_columns = [0,8,9,10,5]\n",
    "y1c_columns_name = new_header_columns[y1c_columns]\n",
    "y1c_raw_data = new_raw_data[:,y1c_columns]\n",
    "print(y1c_columns_name)\n",
    "print(y1c_raw_data)\n",
    "print(len(y1c_raw_data))\n",
    "y1c_header_string = \"\\t\".join(y1c_columns_name)\n",
    "#print(y1c_header_string)"
   ]
  },
  {
   "cell_type": "code",
   "execution_count": 92,
   "id": "2520ffe4",
   "metadata": {},
   "outputs": [],
   "source": [
    "#Lưu file\n",
    "y1c_filename = 'Covid - Confimed by day.csv'\n",
    "y1c_filepath = file_path + y1c_filename\n",
    "y1c_data = y1c_raw_data.astype(np.float64)\n",
    "#print(y1c_data)\n",
    "np.savetxt(y1c_filepath,\n",
    "          y1c_data,\n",
    "          header = y1c_header_string,\n",
    "          fmt = '%d\\t%d\\t%d\\t%d\\t%.1f')"
   ]
  },
  {
   "cell_type": "markdown",
   "id": "e578a5c6-14b5-4529-89f8-74031a26f2bf",
   "metadata": {},
   "source": [
    "### - Chuyển đổi dữ liệu chữ thành dữ liệu số "
   ]
  },
  {
   "cell_type": "markdown",
   "id": "8053f528",
   "metadata": {},
   "source": [
    "### \n",
    "- Tạo cột State_ID"
   ]
  },
  {
   "cell_type": "code",
   "execution_count": 93,
   "id": "6e10a0e8",
   "metadata": {},
   "outputs": [
    {
     "name": "stdout",
     "output_type": "stream",
     "text": [
      "[['1' '01/22/2020' 'Anhui' ... '01' '22' '2020']\n",
      " ['2' '01/22/2020' 'Beijing' ... '01' '22' '2020']\n",
      " ['3' '01/22/2020' 'Chongqing' ... '01' '22' '2020']\n",
      " ...\n",
      " ['306427' '05/29/2021' 'Zhejiang' ... '05' '29' '2021']\n",
      " ['306428' '05/29/2021' 'Zhytomyr Oblast' ... '05' '29' '2021']\n",
      " ['306429' '05/29/2021' 'Zuid-Holland' ... '05' '29' '2021']]\n",
      "(306429, 11)\n",
      "['SNo' 'ObservationDate' 'Province/State' 'Country/Region' 'Last Update' 'Confirmed' 'Deaths' 'Recovered' 'observation_MM' 'observation_DD'\n",
      " 'observation_YYYY']\n",
      "<class 'numpy.ndarray'>\n"
     ]
    }
   ],
   "source": [
    "print(new_raw_data)\n",
    "print(new_raw_data.shape)\n",
    "print(new_header_columns)\n",
    "print(type(new_header_columns))"
   ]
  },
  {
   "cell_type": "code",
   "execution_count": 94,
   "id": "6902a83c",
   "metadata": {},
   "outputs": [
    {
     "name": "stdout",
     "output_type": "stream",
     "text": [
      "[['1' '01/22/2020' 'Anhui' ... '22' '2020' 'Anhui']\n",
      " ['2' '01/22/2020' 'Beijing' ... '22' '2020' 'Beijing']\n",
      " ['3' '01/22/2020' 'Chongqing' ... '22' '2020' 'Chongqing']\n",
      " ...\n",
      " ['306427' '05/29/2021' 'Zhejiang' ... '29' '2021' 'Zhejiang']\n",
      " ['306428' '05/29/2021' 'Zhytomyr Oblast' ... '29' '2021' 'Zhytomyr Oblast']\n",
      " ['306429' '05/29/2021' 'Zuid-Holland' ... '29' '2021' 'Zuid-Holland']]\n",
      "(306429, 12)\n"
     ]
    }
   ],
   "source": [
    "StateName_Col_index = 2\n",
    "new_raw_data_2 = np.insert(new_raw_data,\n",
    "                          new_raw_data.shape[1],\n",
    "                          new_raw_data[:,StateName_Col_index],\n",
    "                          axis = 1)\n",
    "print(new_raw_data_2)\n",
    "print(new_raw_data_2.shape)"
   ]
  },
  {
   "cell_type": "code",
   "execution_count": 95,
   "id": "ed164beb",
   "metadata": {},
   "outputs": [
    {
     "name": "stdout",
     "output_type": "stream",
     "text": [
      "['SNo' 'ObservationDate' 'Province/State' 'Country/Region' 'Last Update' 'Confirmed' 'Deaths' 'Recovered' 'observation_MM' 'observation_DD'\n",
      " 'observation_YYYY' 'State_ID']\n"
     ]
    }
   ],
   "source": [
    "new_columns_name = ['State_ID']\n",
    "stateID_col_index = new_raw_data_2.shape[1] - 1\n",
    "new_header_columns_2 = np.append(new_header_columns,new_columns_name)\n",
    "print(new_header_columns_2)"
   ]
  },
  {
   "cell_type": "code",
   "execution_count": 96,
   "id": "c9ee94ed",
   "metadata": {},
   "outputs": [
    {
     "name": "stdout",
     "output_type": "stream",
     "text": [
      "738\n"
     ]
    }
   ],
   "source": [
    "state_arry = np.unique(new_raw_data[:,StateName_Col_index])\n",
    "print(state_arry.size)\n",
    "#print(state_arry)"
   ]
  },
  {
   "cell_type": "code",
   "execution_count": 97,
   "id": "859b4a2b",
   "metadata": {},
   "outputs": [],
   "source": [
    "#Danh chi so cho state\n",
    "indexState = np.arange(len(state_arry))\n",
    "#print(indexState)"
   ]
  },
  {
   "cell_type": "code",
   "execution_count": 98,
   "id": "0807ae59",
   "metadata": {},
   "outputs": [
    {
     "name": "stdout",
     "output_type": "stream",
     "text": [
      "[['0' '']\n",
      " ['1' '\" Montreal- QC\"']\n",
      " ['2' '\" Norfolk County- MA\"']\n",
      " ...\n",
      " ['735' 'Zhejiang']\n",
      " ['736' 'Zhytomyr Oblast']\n",
      " ['737' 'Zuid-Holland']]\n"
     ]
    }
   ],
   "source": [
    "#Ghep 2 danh sach lai\n",
    "State_array_2d = np.column_stack((indexState,state_arry))\n",
    "print(State_array_2d)"
   ]
  },
  {
   "cell_type": "code",
   "execution_count": 99,
   "id": "80427667",
   "metadata": {},
   "outputs": [],
   "source": [
    "state_filename = 'Covid-19-Province,State.npy'\n",
    "state_filepath = file_path + state_filename\n",
    "\n",
    "state_columns_name = ['State_ID','Province/State']\n",
    "state_data = np.vstack((state_columns_name,State_array_2d))\n",
    "\n",
    "np.savetxt(state_filepath,state_data,fmt = '%s')"
   ]
  },
  {
   "cell_type": "code",
   "execution_count": 100,
   "id": "f7ed9404",
   "metadata": {},
   "outputs": [
    {
     "name": "stdout",
     "output_type": "stream",
     "text": [
      "[['1' '01/22/2020' 'Anhui' ... '22' '2020' 163]\n",
      " ['2' '01/22/2020' 'Beijing' ... '22' '2020' 198]\n",
      " ['3' '01/22/2020' 'Chongqing' ... '22' '2020' 248]\n",
      " ...\n",
      " ['306427' '05/29/2021' 'Zhejiang' ... '29' '2021' 735]\n",
      " ['306428' '05/29/2021' 'Zhytomyr Oblast' ... '29' '2021' 736]\n",
      " ['306429' '05/29/2021' 'Zuid-Holland' ... '29' '2021' 737]]\n"
     ]
    }
   ],
   "source": [
    "new_raw_data_2 = new_raw_data_2.astype('object')\n",
    "TotalState = state_arry.size\n",
    "for i in range(TotalState):\n",
    "    new_raw_data_2[:,stateID_col_index] = np.where(\n",
    "        new_raw_data_2[:,stateID_col_index]==state_arry[i],\n",
    "        i,\n",
    "        new_raw_data_2[:,stateID_col_index])\n",
    "    \n",
    "print(new_raw_data_2)\n",
    "    "
   ]
  },
  {
   "cell_type": "code",
   "execution_count": 101,
   "id": "469c5594",
   "metadata": {},
   "outputs": [
    {
     "name": "stdout",
     "output_type": "stream",
     "text": [
      "(306429, 12)\n"
     ]
    }
   ],
   "source": [
    "print(new_raw_data_2.shape)"
   ]
  },
  {
   "cell_type": "markdown",
   "id": "4e86ef8b",
   "metadata": {},
   "source": [
    "### \n",
    "- Tạo cột Country_ID"
   ]
  },
  {
   "cell_type": "code",
   "execution_count": 102,
   "id": "2fbd13e4",
   "metadata": {},
   "outputs": [
    {
     "name": "stdout",
     "output_type": "stream",
     "text": [
      "[['1' '01/22/2020' 'Anhui' ... '2020' 163 'Mainland China']\n",
      " ['2' '01/22/2020' 'Beijing' ... '2020' 198 'Mainland China']\n",
      " ['3' '01/22/2020' 'Chongqing' ... '2020' 248 'Mainland China']\n",
      " ...\n",
      " ['306427' '05/29/2021' 'Zhejiang' ... '2021' 735 'Mainland China']\n",
      " ['306428' '05/29/2021' 'Zhytomyr Oblast' ... '2021' 736 'Ukraine']\n",
      " ['306429' '05/29/2021' 'Zuid-Holland' ... '2021' 737 'Netherlands']]\n",
      "(306429, 13)\n"
     ]
    }
   ],
   "source": [
    "CountryName_Col_index = 3\n",
    "new_raw_data_3 = np.insert(new_raw_data_2,\n",
    "                          new_raw_data_2.shape[1],\n",
    "                          new_raw_data_2[:,CountryName_Col_index],\n",
    "                          axis = 1)\n",
    "print(new_raw_data_3)\n",
    "print(new_raw_data_3.shape)"
   ]
  },
  {
   "cell_type": "code",
   "execution_count": 103,
   "id": "f01fb7f7",
   "metadata": {},
   "outputs": [
    {
     "name": "stdout",
     "output_type": "stream",
     "text": [
      "['SNo' 'ObservationDate' 'Province/State' 'Country/Region' 'Last Update' 'Confirmed' 'Deaths' 'Recovered' 'observation_MM' 'observation_DD'\n",
      " 'observation_YYYY' 'State_ID' 'Country_ID']\n"
     ]
    }
   ],
   "source": [
    "new_columns_name_2 = ['Country_ID']\n",
    "countryID_col_index = new_raw_data_3.shape[1] - 1\n",
    "new_header_columns_3 = np.append(new_header_columns_2,new_columns_name_2)\n",
    "print(new_header_columns_3)"
   ]
  },
  {
   "cell_type": "code",
   "execution_count": 105,
   "id": "5f1c2e83",
   "metadata": {},
   "outputs": [
    {
     "name": "stdout",
     "output_type": "stream",
     "text": [
      "228\n"
     ]
    }
   ],
   "source": [
    "country_arry = np.unique(new_raw_data[:,CountryName_Col_index])\n",
    "print(country_arry.size)\n",
    "#Empty state\n",
    "#country_arry[0] = ''\n",
    "#print(country_arry)"
   ]
  },
  {
   "cell_type": "code",
   "execution_count": 106,
   "id": "e83f100f",
   "metadata": {},
   "outputs": [],
   "source": [
    "#Danh chi so cho state\n",
    "indexCountry = np.arange(len(country_arry))\n",
    "#print(indexCountry)"
   ]
  },
  {
   "cell_type": "code",
   "execution_count": 107,
   "id": "6a435bfb",
   "metadata": {},
   "outputs": [],
   "source": [
    "#Ghep 2 danh sach lai\n",
    "Country_array_2d = np.column_stack((indexCountry,country_arry))\n",
    "#print(Country_array_2d)"
   ]
  },
  {
   "cell_type": "code",
   "execution_count": 108,
   "id": "20e9ead3",
   "metadata": {},
   "outputs": [],
   "source": [
    "country_filename = 'Covid-19-Country.npy'\n",
    "country_filepath = file_path + country_filename\n",
    "\n",
    "country_columns_name = ['State_ID','Country']\n",
    "country_data = np.vstack((country_columns_name,Country_array_2d))\n",
    "np.savetxt(country_filepath,\n",
    "          country_data,\n",
    "          delimiter = myDelimiter,\n",
    "          fmt = '%s')"
   ]
  },
  {
   "cell_type": "code",
   "execution_count": 109,
   "id": "0b70eb3d",
   "metadata": {},
   "outputs": [
    {
     "name": "stdout",
     "output_type": "stream",
     "text": [
      "[['1' '01/22/2020' 'Anhui' ... '2020' 163 125]\n",
      " ['2' '01/22/2020' 'Beijing' ... '2020' 198 125]\n",
      " ['3' '01/22/2020' 'Chongqing' ... '2020' 248 125]\n",
      " ...\n",
      " ['306427' '05/29/2021' 'Zhejiang' ... '2021' 735 125]\n",
      " ['306428' '05/29/2021' 'Zhytomyr Oblast' ... '2021' 736 215]\n",
      " ['306429' '05/29/2021' 'Zuid-Holland' ... '2021' 737 146]]\n"
     ]
    }
   ],
   "source": [
    "new_raw_data_3 = new_raw_data_3.astype('object')\n",
    "TotalState = country_arry.size\n",
    "for i in range(TotalState):\n",
    "    new_raw_data_3[:,countryID_col_index] = np.where(\n",
    "        new_raw_data_3[:,countryID_col_index]==country_arry[i],\n",
    "        i,\n",
    "        new_raw_data_3[:,countryID_col_index])\n",
    "    \n",
    "print(new_raw_data_3)\n",
    "    "
   ]
  },
  {
   "cell_type": "code",
   "execution_count": 110,
   "id": "2c46853a",
   "metadata": {},
   "outputs": [
    {
     "name": "stdout",
     "output_type": "stream",
     "text": [
      "(306429, 13)\n"
     ]
    }
   ],
   "source": [
    "print(new_raw_data_3.shape)\n",
    "data_file = file_path + 'Covid-19-Final.csv' \n",
    "header_string = \",\".join(new_header_columns_3)\n",
    "np.savetxt(data_file, new_raw_data_3, delimiter=',', header=header_string, fmt='%s', comments='')"
   ]
  },
  {
   "cell_type": "code",
   "execution_count": 111,
   "id": "087853c3",
   "metadata": {},
   "outputs": [],
   "source": [
    "file_name_full = file_path + 'Covid-full.npz'\n",
    "np.savez(file_name_full,\n",
    "        array1 = new_raw_data_3,\n",
    "        array2 = country_data,\n",
    "        array3 = state_data)\n"
   ]
  },
  {
   "cell_type": "code",
   "execution_count": null,
   "id": "749aed97-8500-42f3-8b22-21d670141f05",
   "metadata": {},
   "outputs": [],
   "source": []
  }
 ],
 "metadata": {
  "kernelspec": {
   "display_name": "Python 3 (ipykernel)",
   "language": "python",
   "name": "python3"
  },
  "language_info": {
   "codemirror_mode": {
    "name": "ipython",
    "version": 3
   },
   "file_extension": ".py",
   "mimetype": "text/x-python",
   "name": "python",
   "nbconvert_exporter": "python",
   "pygments_lexer": "ipython3",
   "version": "3.11.5"
  }
 },
 "nbformat": 4,
 "nbformat_minor": 5
}
