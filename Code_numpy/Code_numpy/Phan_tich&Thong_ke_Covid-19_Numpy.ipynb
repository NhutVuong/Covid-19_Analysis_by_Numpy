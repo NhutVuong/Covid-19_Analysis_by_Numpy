{
 "cells": [
  {
   "cell_type": "code",
   "execution_count": 1,
   "id": "e4426582",
   "metadata": {},
   "outputs": [
    {
     "name": "stdout",
     "output_type": "stream",
     "text": [
      "C:\\fpoly\\Numpy\\Assignment\\Covid-19-Final.csv\n"
     ]
    }
   ],
   "source": [
    "import numpy as np\n",
    "file_path = \"C:\\\\fpoly\\\\Numpy\\\\Assignment\\\\\"\n",
    "file_data = \"Covid-19-Final.csv\"\n",
    "datafile = file_path + file_data\n",
    "print(datafile)"
   ]
  },
  {
   "cell_type": "code",
   "execution_count": 2,
   "id": "19610f35",
   "metadata": {},
   "outputs": [],
   "source": [
    "myDelimiter = ','\n",
    "maxline = 10\n",
    "np.set_printoptions(suppress=True,precision=2,linewidth=150)"
   ]
  },
  {
   "cell_type": "code",
   "execution_count": 3,
   "id": "9c23dd46",
   "metadata": {},
   "outputs": [
    {
     "name": "stdout",
     "output_type": "stream",
     "text": [
      "['SNo' 'ObservationDate' 'Province/State' 'Country/Region' 'Last Update' 'Confirmed' 'Deaths' 'Recovered' 'observation_MM' 'observation_DD'\n",
      " 'observation_YYYY' 'State_ID' 'Country_ID']\n"
     ]
    }
   ],
   "source": [
    "raw_data_header = np.loadtxt(datafile,\n",
    "                     delimiter = myDelimiter,\n",
    "                     dtype = np.str_,\n",
    "                     max_rows = 1)\n",
    "print(raw_data_header)"
   ]
  },
  {
   "cell_type": "code",
   "execution_count": 4,
   "id": "b66c48c7",
   "metadata": {},
   "outputs": [
    {
     "name": "stdout",
     "output_type": "stream",
     "text": [
      "[[     1.      1.     22. ...      1.      0.      0.]\n",
      " [     2.      1.     22. ...     14.      0.      0.]\n",
      " [     3.      1.     22. ...      6.      0.      0.]\n",
      " ...\n",
      " [306427.      5.     29. ...   1364.      1.   1324.]\n",
      " [306428.      5.     29. ...  87550.   1738.  83790.]\n",
      " [306429.      5.     29. ... 391559.   4252.      0.]]\n",
      "(306429, 7)\n"
     ]
    }
   ],
   "source": [
    "indeces_raw = [0,8,9,10,5,6,7]\n",
    "raw_data = np.genfromtxt(datafile,\n",
    "                        usecols = indeces_raw,\n",
    "                        delimiter = myDelimiter,\n",
    "                        skip_header = True)\n",
    "print(raw_data)\n",
    "print(raw_data.shape)\n"
   ]
  },
  {
   "cell_type": "code",
   "execution_count": 5,
   "id": "a83ebbb2",
   "metadata": {},
   "outputs": [],
   "source": [
    "SNo_cIdx = 0\n",
    "MM_cIdx = 1\n",
    "DD_cIdx = 2\n",
    "YYYY_cIdx = 3\n",
    "cofirmed_cIdx = 4\n",
    "deaths_cIdx = 5\n",
    "recoverds_cIdx = 6"
   ]
  },
  {
   "cell_type": "code",
   "execution_count": 6,
   "id": "5b4b30db",
   "metadata": {},
   "outputs": [
    {
     "name": "stdout",
     "output_type": "stream",
     "text": [
      "[[ 38304.      6.      8. ...   3611.     10.   3543.]\n",
      " [     2.      1.     22. ...     14.      0.      0.]\n",
      " [     3.      1.     22. ...      6.      0.      0.]\n",
      " ...\n",
      " [306428.      5.     29. ...  87550.   1738.  83790.]\n",
      " [306429.      5.     29. ... 391559.   4252.      0.]\n",
      " [268126.      4.      9. ... 389353.   2157.      0.]]\n"
     ]
    }
   ],
   "source": [
    "#Sắp xếp 1 cột YYYY\n",
    "indeces_sortYYYY = np.argsort(raw_data[:,YYYY_cIdx])\n",
    "sort_data_YYYY = raw_data[indeces_sortYYYY]\n",
    "print(sort_data_YYYY)"
   ]
  },
  {
   "cell_type": "code",
   "execution_count": 7,
   "id": "adc65c8e",
   "metadata": {},
   "outputs": [
    {
     "name": "stdout",
     "output_type": "stream",
     "text": [
      "[[ 147525.      11.       2. ... -302844.       0.       0.]\n",
      " [ 280717.       4.      26. ...       0.       1.       0.]\n",
      " [  52209.       6.      27. ...       0.       0.  164024.]\n",
      " ...\n",
      " [ 296539.       5.      17. ... 5829009.  107041.  321874.]\n",
      " [ 297304.       5.      18. ... 5845010.  107256.  323205.]\n",
      " [ 298069.       5.      19. ... 5863138.  107390.  324444.]]\n"
     ]
    }
   ],
   "source": [
    "#Sắp xếp nhìu cột số ca nhiễm\n",
    "indeces_sortcofimed = np.argsort(raw_data[:,cofirmed_cIdx])\n",
    "sort_data_cofimed  = raw_data[indeces_sortcofimed]\n",
    "print(sort_data_cofimed)\n"
   ]
  },
  {
   "cell_type": "markdown",
   "id": "bab68ba0",
   "metadata": {},
   "source": [
    "### \n",
    "- Sắp xếp mảng theo thời gian khảo sát để hiểu rõ hơn về xu hướng phát triển của dịch bệnh. \n",
    "- Sắp xếp dữ liệu theo số ca nhiễm từ thấp đến cao để xác định các quốc gia ổn định. \n",
    "- Sắp xếp mảng theo thứ tự tử vong tăng dần để đánh giá tình hình nguy cấp. "
   ]
  },
  {
   "cell_type": "code",
   "execution_count": 8,
   "id": "3606ae63",
   "metadata": {},
   "outputs": [
    {
     "name": "stdout",
     "output_type": "stream",
     "text": [
      "[[ 147525.      11.       2. ... -302844.       0.       0.]\n",
      " [ 215475.       1.      31. ...       0.       0.       0.]\n",
      " [ 215692.       1.      31. ...       0.       1.       0.]\n",
      " ...\n",
      " [ 296539.       5.      17. ... 5829009.  107041.  321874.]\n",
      " [ 297304.       5.      18. ... 5845010.  107256.  323205.]\n",
      " [ 298069.       5.      19. ... 5863138.  107390.  324444.]]\n",
      "['SNo' 'observation_MM' 'observation_DD' 'observation_YYYY' 'Confirmed' 'Deaths' 'Recovered']\n",
      "SNo,observation_MM,observation_DD,observation_YYYY,Confirmed,Deaths,Recovered\n"
     ]
    }
   ],
   "source": [
    "#Sắp xếp nhiều cột Date(YYYY,MM,DD,cofirmed)\n",
    "indeces_date_cofirmed = np.lexsort((-raw_data[:,DD_cIdx],\n",
    "                          raw_data[:,MM_cIdx],\n",
    "                          -raw_data[:,YYYY_cIdx],\n",
    "                          raw_data[:,cofirmed_cIdx]))\n",
    "sort_data = raw_data[indeces_date_cofirmed]\n",
    "print(sort_data)\n",
    "header_y1_03 = raw_data_header[indeces_raw]\n",
    "print(header_y1_03)\n",
    "y1_03_header_string = \",\".join(header_y1_03)\n",
    "print(y1_03_header_string)\n",
    "file_name = 'Trend_Cofimed_Date_Data.csv'\n",
    "datafile = file_path + file_name\n",
    "np.savetxt(datafile,sort_data,delimiter = myDelimiter,header =y1_03_header_string, fmt = \"%s\")"
   ]
  },
  {
   "cell_type": "markdown",
   "id": "f0010ea7",
   "metadata": {},
   "source": [
    "### \n",
    "- Xác định ngày có số ca nhiễm và tử vong cao nhất và thấp nhất. \n"
   ]
  },
  {
   "cell_type": "code",
   "execution_count": 9,
   "id": "9a87d2e1",
   "metadata": {},
   "outputs": [
    {
     "name": "stdout",
     "output_type": "stream",
     "text": [
      "Ca nhiễm cao nhất:\n",
      " [ 298069.       5.      19.    2021. 5863138.  107390.  324444.]\n",
      "Ca tử vong cao nhất:\n",
      " [ 305973.       5.      29.    2021. 3910803.  112385.       0.]\n",
      "Ca nhiễm thấp nhất:\n",
      " [ 147525.      11.       2.    2020. -302844.       0.       0.]\n",
      "Ca tử vong thấp nhất:\n",
      " [118364.      9.     24.   2020.      0.   -178. -12684.]\n"
     ]
    }
   ],
   "source": [
    "#print(raw_data)\n",
    "max_index_Cofirmed = np.argmax(raw_data[:,cofirmed_cIdx])\n",
    "max_column_Cofirmed = raw_data[max_index_Cofirmed]\n",
    "print(\"Ca nhiễm cao nhất:\\n\",max_column_Cofirmed)\n",
    "\n",
    "max_index_Deaths = np.argmax(raw_data[:,deaths_cIdx])\n",
    "max_column_Deaths = raw_data[max_index_Deaths]\n",
    "print(\"Ca tử vong cao nhất:\\n\",max_column_Deaths)\n",
    "\n",
    "min_index_Cofirmed = np.argmin(raw_data[:,cofirmed_cIdx])\n",
    "min_column_Cofirmed = raw_data[min_index_Cofirmed]\n",
    "print(\"Ca nhiễm thấp nhất:\\n\",min_column_Cofirmed)\n",
    "\n",
    "min_index_Deaths = np.argmin(raw_data[:,deaths_cIdx])\n",
    "min_column_Deaths = raw_data[min_index_Deaths]\n",
    "print(\"Ca tử vong thấp nhất:\\n\",min_column_Deaths)\n"
   ]
  },
  {
   "cell_type": "code",
   "execution_count": 10,
   "id": "ffe29e5c",
   "metadata": {},
   "outputs": [
    {
     "name": "stdout",
     "output_type": "stream",
     "text": [
      "[ 298069.       5.      19.    2021. 5863138.  107390.  324444.]\n",
      "[ 147525.      11.       2.    2020. -302844.       0.       0.]\n"
     ]
    }
   ],
   "source": [
    "indeces_sortmax_Cofirmed_Deaths = np.lexsort((-raw_data[:,deaths_cIdx],-raw_data[:,cofirmed_cIdx]))\n",
    "data_sortmax_Cofirmed_Deaths = raw_data[indeces_sortmax_Cofirmed_Deaths]\n",
    "print(data_sortmax_Cofirmed_Deaths[0])\n",
    "\n",
    "indeces_sortmin_Cofirmed_Deaths = np.lexsort((raw_data[:,deaths_cIdx],raw_data[:,cofirmed_cIdx]))\n",
    "data_sortmin_Cofirmed_Deaths = raw_data[indeces_sortmin_Cofirmed_Deaths]\n",
    "print(data_sortmin_Cofirmed_Deaths[0])"
   ]
  },
  {
   "cell_type": "markdown",
   "id": "caf33fb4",
   "metadata": {},
   "source": [
    "###\n",
    "- Tìm ngày có số ca nhiễm tăng mạnh nhất so với ngày trước đó. "
   ]
  },
  {
   "cell_type": "code",
   "execution_count": 11,
   "id": "4c1bd851",
   "metadata": {},
   "outputs": [
    {
     "name": "stdout",
     "output_type": "stream",
     "text": [
      "[[     1.      1.     22. ...      1.      0.      0.]\n",
      " [     2.      1.     22. ...     14.      0.      0.]\n",
      " [     3.      1.     22. ...      6.      0.      0.]\n",
      " ...\n",
      " [306427.      5.     29. ...   1364.      1.   1324.]\n",
      " [306428.      5.     29. ...  87550.   1738.  83790.]\n",
      " [306429.      5.     29. ... 391559.   4252.      0.]]\n"
     ]
    }
   ],
   "source": [
    "indeces_date = np.lexsort((raw_data[:,DD_cIdx],\n",
    "                          raw_data[:,MM_cIdx],\n",
    "                          raw_data[:,YYYY_cIdx],\n",
    "                          ))\n",
    "sort_data_byDate = raw_data[indeces_date]\n",
    "print(sort_data_byDate)"
   ]
  },
  {
   "cell_type": "code",
   "execution_count": 12,
   "id": "cd65231b",
   "metadata": {},
   "outputs": [
    {
     "name": "stdout",
     "output_type": "stream",
     "text": [
      "(306428,)\n",
      "[    13.     -8.     -5. ... -27783.  86186. 304009.]\n",
      "Max value: 5772451.0\n",
      "13.0\n"
     ]
    }
   ],
   "source": [
    "newValue_byDate = np.diff(sort_data_byDate[:,cofirmed_cIdx])\n",
    "print(newValue_byDate.shape)\n",
    "print(newValue_byDate)\n",
    "\n",
    "max_value = np.max(newValue_byDate)\n",
    "print(\"Max value:\", max_value)\n",
    "arg_max = np.argmax(max_value)\n",
    "print(newValue_byDate[arg_max])"
   ]
  },
  {
   "cell_type": "code",
   "execution_count": 13,
   "id": "03e12aa9",
   "metadata": {},
   "outputs": [
    {
     "name": "stdout",
     "output_type": "stream",
     "text": [
      "(306428,)\n",
      "[    13.     -8.     -5. ... -27783.  86186. 304009.]\n",
      "5772451.0\n",
      "298067\n",
      "[298068.      5.     19.   2021.  90687.    929.  46000.]\n",
      "[ 298069.       5.      19.    2021. 5863138.  107390.  324444.]\n"
     ]
    }
   ],
   "source": [
    "newValue_byDate = np.diff(sort_data_byDate[:, cofirmed_cIdx])\n",
    "print(newValue_byDate.shape)\n",
    "print(newValue_byDate)\n",
    "\n",
    "max_value = np.max(newValue_byDate)\n",
    "print(max_value)\n",
    "\n",
    "index_max_value = np.argmax(newValue_byDate)\n",
    "print(index_max_value)\n",
    "\n",
    "print(sort_data_byDate[index_max_value])\n",
    "print(sort_data_byDate[index_max_value + 1])"
   ]
  },
  {
   "cell_type": "markdown",
   "id": "9a9e78e0",
   "metadata": {},
   "source": [
    "### \n",
    "- Xác định ngày có số ca hồi phục nhiều nhất. "
   ]
  },
  {
   "cell_type": "code",
   "execution_count": 14,
   "id": "d03bb9a0",
   "metadata": {},
   "outputs": [
    {
     "name": "stdout",
     "output_type": "stream",
     "text": [
      "Ca phục hồi nhiều nhất:\n",
      " [ 179329.      12.      14.    2020.       0.       0. 6399531.]\n"
     ]
    }
   ],
   "source": [
    "index_max_Recover = np.argmax(raw_data[:,recoverds_cIdx])\n",
    "max_data_Recover = raw_data[index_max_Recover]\n",
    "print(\"Ca phục hồi nhiều nhất:\\n\",max_data_Recover)"
   ]
  }
 ],
 "metadata": {
  "kernelspec": {
   "display_name": "Python 3 (ipykernel)",
   "language": "python",
   "name": "python3"
  },
  "language_info": {
   "codemirror_mode": {
    "name": "ipython",
    "version": 3
   },
   "file_extension": ".py",
   "mimetype": "text/x-python",
   "name": "python",
   "nbconvert_exporter": "python",
   "pygments_lexer": "ipython3",
   "version": "3.11.5"
  }
 },
 "nbformat": 4,
 "nbformat_minor": 5
}
